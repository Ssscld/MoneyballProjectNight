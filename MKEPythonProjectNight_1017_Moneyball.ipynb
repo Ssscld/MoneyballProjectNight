{
 "cells": [
  {
   "cell_type": "markdown",
   "metadata": {},
   "source": [
    "# MKE Python Project Night: Learn Python Data Science with Moneyball\n",
    "\n",
    "Notebook by Kevin Najimi\n",
    "\n",
    "Thanks to Adil Moujahid for the tuturiol materials!"
   ]
  },
  {
   "cell_type": "markdown",
   "metadata": {
    "collapsed": true
   },
   "source": [
    "## Overview\n",
    "Sabermetrics is the apllication of statistical analysis to baseball data in order to measure in-game activity. The term Sabermetrics comes from saber (Society for American Baseball Research) and metrics (as in econometrics).\n",
    "\n",
    "In 2003, Michael Lewis published Moneyball about Billy Beane, the Oakland Athletics General Manager since 1997. The book was centered around Billy Beane's use of Sabemetrics to identify and recruit under-valued baseball players. With this strategy, his team could achieve as many wins as teams with more than double the payroll. The figures below show the relationship between team salaries and number of wins for years: 1997, 2001, 2003, 2013. The green dot represents the Oakland Athletics, the blue dot represents the New York Yankees, and the red dot represents The Boston Red Sox. We can see that the Oakland Athletics went from the underperforming team in 1997, to became a highly competitive team with a comparable number of wins to the New York Yankees. The Oakland Athletics made it to the play-offs in 4 successive years: 2000,2001,2002,2003.\n",
    "\n",
    "In 2011, the movie Moneyball based on Lewis' book was released starring Brad Pitt in the role of Beane."
   ]
  },
  {
   "cell_type": "code",
   "execution_count": null,
   "metadata": {
    "collapsed": false
   },
   "outputs": [],
   "source": [
    "from IPython.display import Image\n",
    "Image(filename='salwins.jpg') "
   ]
  },
  {
   "cell_type": "code",
   "execution_count": null,
   "metadata": {
    "collapsed": false,
    "scrolled": false
   },
   "outputs": [],
   "source": [
    "Image(filename='salwins2.jpg')"
   ]
  },
  {
   "cell_type": "markdown",
   "metadata": {},
   "source": [
    "## Reading and understading the data\n",
    "\n",
    "We will start by importing the required libraries using the commands below:"
   ]
  },
  {
   "cell_type": "code",
   "execution_count": null,
   "metadata": {
    "collapsed": true
   },
   "outputs": [],
   "source": [
    "import pandas as pd\n",
    "import scipy as sp\n",
    "import matplotlib.pyplot as plt\n",
    "from matplotlib.ticker import FuncFormatter"
   ]
  },
  {
   "cell_type": "markdown",
   "metadata": {},
   "source": [
    "Next, we will read the Teams.csv file to a Pandas DataFrame called teams. This file contains teams statistics from 1871 to 2013. The dataset has 2745 data points. Each data point has 48 attributes."
   ]
  },
  {
   "cell_type": "code",
   "execution_count": null,
   "metadata": {
    "collapsed": false
   },
   "outputs": [],
   "source": [
    "teams = pd.read_csv('./data/Teams.csv')\n",
    "teams.head()"
   ]
  },
  {
   "cell_type": "markdown",
   "metadata": {},
   "source": [
    "Next, we will select a subset of the data starting from 1985, with 15 Attributes only. For the remaining of this tutorial we will use only this subset and throw the rest of the data."
   ]
  },
  {
   "cell_type": "code",
   "execution_count": null,
   "metadata": {
    "collapsed": true
   },
   "outputs": [],
   "source": [
    "teams = teams[teams['yearID'] >= 1985]\n",
    "teams = teams[['yearID', 'teamID', 'Rank', 'R', 'RA', 'G', 'W', 'H', 'BB', 'HBP', 'AB', 'SF', 'HR', '2B', '3B']]"
   ]
  },
  {
   "cell_type": "code",
   "execution_count": null,
   "metadata": {
    "collapsed": false
   },
   "outputs": [],
   "source": [
    "teams.head()"
   ]
  },
  {
   "cell_type": "markdown",
   "metadata": {},
   "source": [
    "Below is an explanation of the teams DataFrame attribtues.\n",
    "\n",
    "* **yearID:** Year \n",
    "* **teamID:** Team \n",
    "* **Rank:** Position in final standings\n",
    "* **R:** Runs scored\n",
    "* **RA:** Opponents runs scored\n",
    "* **G:** Games played\n",
    "* **W:** Wins\n",
    "* **H:** Hits by batters\n",
    "* **BB:** Walks by batters\n",
    "* **HBP:** Batters hit by pitch\n",
    "* **AB:** At bats\n",
    "* **SF:** Sacrifice flies\n",
    "* **HR:** Homeruns by batters\n",
    "* **2B:** Doubles\n",
    "* **3B:** Triples"
   ]
  },
  {
   "cell_type": "markdown",
   "metadata": {},
   "source": [
    "Next, we will change the teams DataFrame index to ('yearID', 'teamID')."
   ]
  },
  {
   "cell_type": "code",
   "execution_count": null,
   "metadata": {
    "collapsed": false
   },
   "outputs": [],
   "source": [
    "teams = teams.set_index(['yearID', 'teamID'])"
   ]
  },
  {
   "cell_type": "code",
   "execution_count": null,
   "metadata": {
    "collapsed": false
   },
   "outputs": [],
   "source": [
    "teams.head()"
   ]
  },
  {
   "cell_type": "markdown",
   "metadata": {},
   "source": [
    "This index change will make our queries easier. For example, we can check the number of wins by the Oakland Athletics in 2001 by running the command below. This should return 102."
   ]
  },
  {
   "cell_type": "code",
   "execution_count": null,
   "metadata": {
    "collapsed": false
   },
   "outputs": [],
   "source": [
    "teams['W'][2001, 'OAK']"
   ]
  },
  {
   "cell_type": "markdown",
   "metadata": {},
   "source": [
    "Next, we will read the Salaries.csv to a Pandas DataFrame called salaries. The salaries DataFrame contains the salaries of all baseball players from 1985 till 2013. The DataFrame has 5 columns: yearID, teamID, lgID, playerID, salary."
   ]
  },
  {
   "cell_type": "code",
   "execution_count": null,
   "metadata": {
    "collapsed": false
   },
   "outputs": [],
   "source": [
    "# TODO: assign the Salaries CSV to a variable named 'salaries'\n",
    "salaries = pd.read_csv('./data/Salaries.csv')\n",
    "salaries.head()"
   ]
  },
  {
   "cell_type": "markdown",
   "metadata": {},
   "source": [
    "We are interested in calculating baseball teams payroll. We can do so by running the command below."
   ]
  },
  {
   "cell_type": "code",
   "execution_count": null,
   "metadata": {
    "collapsed": false
   },
   "outputs": [],
   "source": [
    "salaries_by_yearID_teamID = salaries.groupby(['yearID', 'teamID'])['salary'].sum()\n",
    "salaries_by_yearID_teamID.head()"
   ]
  },
  {
   "cell_type": "markdown",
   "metadata": {},
   "source": [
    "Now we can check the payroll of the Oakland Athletics in 2001 by running the command below. This should return 33810750."
   ]
  },
  {
   "cell_type": "code",
   "execution_count": null,
   "metadata": {
    "collapsed": false
   },
   "outputs": [],
   "source": [
    "salaries_by_yearID_teamID[2001, 'OAK']"
   ]
  },
  {
   "cell_type": "markdown",
   "metadata": {},
   "source": [
    "Next, we will add the payroll data to teams DataFrame. We can do so using the command below."
   ]
  },
  {
   "cell_type": "code",
   "execution_count": null,
   "metadata": {
    "collapsed": false
   },
   "outputs": [],
   "source": [
    "teams = teams.join(salaries_by_yearID_teamID)\n",
    "teams.head()"
   ]
  },
  {
   "cell_type": "markdown",
   "metadata": {},
   "source": [
    "The payroll data is now stored in a column called salary. Now we can check the payroll of the Oakland Athletics in 2001 by running the command below."
   ]
  },
  {
   "cell_type": "code",
   "execution_count": null,
   "metadata": {
    "collapsed": false
   },
   "outputs": [],
   "source": [
    "teams['salary'][2001, 'OAK']"
   ]
  },
  {
   "cell_type": "markdown",
   "metadata": {},
   "source": [
    "Next we will plot the relationship between salaries and number of wins. We can do so for the year 2001 by using the command below."
   ]
  },
  {
   "cell_type": "code",
   "execution_count": null,
   "metadata": {
    "collapsed": false
   },
   "outputs": [],
   "source": [
    "plt.plot(teams['salary'][2001], teams['W'][2001])\n",
    "plt.show()"
   ]
  },
  {
   "cell_type": "markdown",
   "metadata": {},
   "source": [
    "The following two functions are used to plot the relationship between salaries with labels and axis formating; as well as highlighting the Oakland Athletics, the New York Yankees, and the Boston Red Sox data."
   ]
  },
  {
   "cell_type": "code",
   "execution_count": null,
   "metadata": {
    "collapsed": true
   },
   "outputs": [],
   "source": [
    "def millions(x, pos):\n",
    "    'The two args are the value and tick position'\n",
    "    return '$%1.1fM' % (x*1e-6)\n",
    "\n",
    "formatter = FuncFormatter(millions)\n",
    "\n",
    "def plot_spending_wins(teams, year):    \n",
    "    teams_year = teams.xs(year)\n",
    "    fig, ax = plt.subplots()\n",
    "    for i in teams_year.index:\n",
    "        if i == 'OAK':\n",
    "            ax.scatter(teams_year['salary'][i], teams_year['W'][i], color=\"#4DDB94\", s=200)\n",
    "            ax.annotate(i, (teams_year['salary'][i], teams_year['W'][i]),\n",
    "                        bbox=dict(boxstyle=\"round\", color=\"#4DDB94\"),\n",
    "                        xytext=(-30, 30), textcoords='offset points',\n",
    "                        arrowprops=dict(arrowstyle=\"->\", connectionstyle=\"angle,angleA=0,angleB=90,rad=10\"))\n",
    "        elif i == 'NYA':\n",
    "            ax.scatter(teams_year['salary'][i], teams_year['W'][i], color=\"#0099FF\", s=200)\n",
    "            ax.annotate(i, (teams_year['salary'][i], teams_year['W'][i]),\n",
    "                        bbox=dict(boxstyle=\"round\", color=\"#0099FF\"),\n",
    "                        xytext=(30, -30), textcoords='offset points',\n",
    "                        arrowprops=dict(arrowstyle=\"->\", connectionstyle=\"angle,angleA=0,angleB=90,rad=10\"))\n",
    "        elif i == 'BOS':\n",
    "            ax.scatter(teams_year['salary'][i], teams_year['W'][i], color=\"#FF6666\", s=200)\n",
    "            ax.annotate(i, (teams_year['salary'][i], teams_year['W'][i]),\n",
    "                        bbox=dict(boxstyle=\"round\", color=\"#FF6666\"),\n",
    "                        xytext=(-30, 30), textcoords='offset points',\n",
    "                        arrowprops=dict(arrowstyle=\"->\", connectionstyle=\"angle,angleA=0,angleB=90,rad=10\"))     \n",
    "        else:\n",
    "            ax.scatter(teams_year['salary'][i], teams_year['W'][i], color=\"grey\", s=200)\n",
    "    ax.xaxis.set_major_formatter(formatter) \n",
    "    ax.tick_params(axis='x', labelsize=15)\n",
    "    ax.tick_params(axis='y', labelsize=15)\n",
    "    ax.set_xlabel('Salaries', fontsize=20)\n",
    "    ax.set_ylabel('Number of Wins' , fontsize=20)\n",
    "    ax.set_title('Salaries - Wins: '+ str(year), fontsize=25, fontweight='bold')\n",
    "    plt.show()"
   ]
  },
  {
   "cell_type": "markdown",
   "metadata": {},
   "source": [
    "We can run the plot_spending_wins by passing the teams DataFrame and the year variable. For example, for plotting 2001 salaries and number of wins relationship, we execute the following:"
   ]
  },
  {
   "cell_type": "code",
   "execution_count": null,
   "metadata": {
    "collapsed": false,
    "scrolled": false
   },
   "outputs": [],
   "source": [
    "plot_spending_wins(teams, 2001)"
   ]
  },
  {
   "cell_type": "markdown",
   "metadata": {},
   "source": [
    "## Project Task #1\n",
    "Edit the function above to highlight our local team, the MKE Brewers, and their league rivals CHI Cubs as well as the current National League champs, LA Dodgers.  Plot various year.  Notice anything?"
   ]
  },
  {
   "cell_type": "code",
   "execution_count": null,
   "metadata": {
    "collapsed": true
   },
   "outputs": [],
   "source": []
  },
  {
   "cell_type": "markdown",
   "metadata": {},
   "source": [
    "## \"Moneyball\" - Bill Beane's Formula\n",
    "For a Baseball team to win a game, it needs to score more runs than it allows. In the remaining of this tutorial, we will build a mathematical model for runs scored. Similar logic could be applied for modelling runs allowed.\n",
    "\n",
    "Most teams focused on Batting Average (BA) as a statistic to improve their runs Scored. Bill Beane took a different approach, he focused on improving On Base Percentage (OBP), and Slugging Percentage (SLG).\n",
    "\n",
    "The Batting Average is defined by the number of hits divided by at bats. It can be calculated using the formula below:\n",
    "\n",
    "**BA = H/AB**\n",
    "\n",
    "On-base Percentage is a measure of how often a batter reaches base for any reason other than a fielding error, fielder's choice, dropped/uncaught third strike, fielder's obstruction, or catcher's interference. It can be calculated using the formula below:\n",
    "\n",
    "**OBP = (H+BB+HBP)/(AB+BB+HBP+SF)**\n",
    "\n",
    "Slugging Percentage is a measure of the power of a hitter. It can ve calculated using the formula below:\n",
    "\n",
    "**SLG = H+2B+(2*3B)+(3*HR)/AB**\n"
   ]
  },
  {
   "cell_type": "markdown",
   "metadata": {},
   "source": [
    "We will add these 3 measures to our teams DataFrame by running the following commands:"
   ]
  },
  {
   "cell_type": "code",
   "execution_count": null,
   "metadata": {
    "collapsed": true
   },
   "outputs": [],
   "source": [
    "teams['BA'] = teams['H']/teams['AB']\n",
    "teams['OBP'] = (teams['H'] + teams['BB'] + teams['HBP']) / (teams['AB'] + teams['BB'] + teams['HBP'] + teams['SF'])\n",
    "teams['SLG'] = (teams['H'] + teams['2B'] + (2*teams['3B']) + (3*teams['HR'])) / teams['AB']"
   ]
  },
  {
   "cell_type": "markdown",
   "metadata": {},
   "source": [
    "Next, we will use a linear regression model to verify which baseball stats are more important to predict runs. We will build 3 different models: The first one will have as features OBP, SLG and BA. The second model will have as features OBP and SLG. The last one will have as feature BA only.\n",
    "\n",
    "We will use Python's statsmodels library for building these models. We start first by importing the library by running:"
   ]
  },
  {
   "cell_type": "code",
   "execution_count": null,
   "metadata": {
    "collapsed": true
   },
   "outputs": [],
   "source": [
    "import statsmodels.formula.api as sm"
   ]
  },
  {
   "cell_type": "markdown",
   "metadata": {},
   "source": [
    "Next we will build our models:"
   ]
  },
  {
   "cell_type": "code",
   "execution_count": null,
   "metadata": {
    "collapsed": true
   },
   "outputs": [],
   "source": [
    "#First Model\n",
    "runs_reg_model1 = sm.ols(\"R~OBP+SLG+BA\",teams)\n",
    "runs_reg1 = runs_reg_model1.fit()\n",
    "#Second Model\n",
    "runs_reg_model2 = sm.ols(\"R~OBP+SLG\",teams)\n",
    "runs_reg2 = runs_reg_model2.fit()\n",
    "#Third Model\n",
    "runs_reg_model3 = sm.ols(\"R~BA\",teams)\n",
    "runs_reg3 = runs_reg_model3.fit()"
   ]
  },
  {
   "cell_type": "markdown",
   "metadata": {},
   "source": [
    "We can look at a summary statistic of these models by running:"
   ]
  },
  {
   "cell_type": "code",
   "execution_count": null,
   "metadata": {
    "collapsed": false
   },
   "outputs": [],
   "source": [
    "runs_reg1.summary()"
   ]
  },
  {
   "cell_type": "code",
   "execution_count": null,
   "metadata": {
    "collapsed": false
   },
   "outputs": [],
   "source": [
    "runs_reg2.summary()"
   ]
  },
  {
   "cell_type": "code",
   "execution_count": null,
   "metadata": {
    "collapsed": false
   },
   "outputs": [],
   "source": [
    "runs_reg3.summary()"
   ]
  },
  {
   "cell_type": "markdown",
   "metadata": {},
   "source": [
    "The first model has an Adjusted R-squared of 0.918, with 95% confidence interval of BA between -283 and 468. This is counterintuitive, since we expect the BA value to be positive. This is possibly due to a multicollinearity between the variables.\n",
    "\n",
    "The second model has an Adjusted R-squared of 0.919, and the last model an Adjusted R-squared of 0.500.\n",
    "\n",
    "Based on this analysis, we could confirm that the second model using OBP and SLG is the best model for predicting Run Scored."
   ]
  },
  {
   "cell_type": "markdown",
   "metadata": {},
   "source": [
    "### Recruting strategy based on Bill Beane's Formula\n",
    "\n",
    "Based on the analysis above, a good strategy for recruiting batters would focus on targeting undervalued players with high OBP and SLG. In the late 1990s, the old school scouts overvalued BA, and players with high BA had high salaries. Although BA and OBP have a positive correlation, there were some players that have high OBP and SLG, and relatively small BA. These players were undervalued by the market, and were the target of Billy Beane."
   ]
  },
  {
   "cell_type": "markdown",
   "metadata": {},
   "source": [
    "## Project Task #2\n",
    "Calculate the Raw Equivalent Average (REqA).  \n",
    "\n",
    "In the formula below, the abbreviations are: H=Hit, TB=Total bases, BB=Bases on balls (walks), HBP=Hit by pitch, SB=Stolen base, SH=Sacrifice hit (typically, sacrifice bunt), SF=Sacrifice fly, AB=At bat, CS=Caught stealing.\n",
    "\n",
    "(H + TB + 1.5*(BB + HBP + SB) + SH + SF) divided by (AB + BB + HBP + SH + SF + CS + SB)\n",
    "\n",
    "Fit two models to runs scored: 1) the numerator and denomonator of REqA and 2) the REqA"
   ]
  },
  {
   "cell_type": "markdown",
   "metadata": {},
   "source": [
    "Tips and Hints:\n",
    "    1. You can add back to the dataset the columns SB and CS from Teams\n",
    "    2. TB = H + 2*2B + 3*3B + 4*HR\n",
    "    3. You'll need to join to BattingPost.csv to get SH (see the Readme file in the data folder for the spec)"
   ]
  },
  {
   "cell_type": "code",
   "execution_count": null,
   "metadata": {
    "collapsed": true
   },
   "outputs": [],
   "source": []
  },
  {
   "cell_type": "code",
   "execution_count": null,
   "metadata": {
    "collapsed": true
   },
   "outputs": [],
   "source": []
  },
  {
   "cell_type": "code",
   "execution_count": null,
   "metadata": {
    "collapsed": true
   },
   "outputs": [],
   "source": []
  },
  {
   "cell_type": "code",
   "execution_count": null,
   "metadata": {
    "collapsed": true
   },
   "outputs": [],
   "source": []
  }
 ],
 "metadata": {
  "kernelspec": {
   "display_name": "Python 3",
   "language": "python",
   "name": "python3"
  },
  "language_info": {
   "codemirror_mode": {
    "name": "ipython",
    "version": 3
   },
   "file_extension": ".py",
   "mimetype": "text/x-python",
   "name": "python",
   "nbconvert_exporter": "python",
   "pygments_lexer": "ipython3",
   "version": "3.6.0"
  }
 },
 "nbformat": 4,
 "nbformat_minor": 2
}
